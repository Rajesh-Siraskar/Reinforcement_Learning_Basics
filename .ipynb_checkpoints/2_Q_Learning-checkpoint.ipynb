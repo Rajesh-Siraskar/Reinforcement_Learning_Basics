{
 "cells": [
  {
   "cell_type": "markdown",
   "id": "dd60fc4b-f063-4c40-8ce7-681dffedcf63",
   "metadata": {},
   "source": [
    "## Ex. 2: Q-Learning for Frozen Lake\n",
    "\n",
    "- $Q_{(s,a)} \\leftarrow Q_{(s,a)} + \\alpha \\; [R_{t+k+1} + \\gamma\\; \\underset{a'}{max}\\; Q_{(s',a')} - Q_{(s,a)}]$\n",
    "- Environment: SFFF FHFH FFFH HFFG\n",
    "- Actions: Left = 0, Down = 1, Right = 2, Up = 3\n",
    "\n",
    "**Implementation**: Agent = class, Q = dict\n",
    "\n",
    "**Algo.**:\n",
    "```\n",
    "1. Init Q for all s, a\n",
    "2. Init alpha=0.001 gamma=0.9 epsilon range [0.01, 1.0]\n",
    "3. For n_episodes:\n",
    "        Init s\n",
    "        For each step of episode:\n",
    "            choose a with epsilon-greedy\n",
    "            perform a, get new state s' and reward r\n",
    "            Update Q(s,a)\n",
    "            update to new state\n",
    "            s = s'\n",
    "            \n",
    "```"
   ]
  },
  {
   "cell_type": "code",
   "execution_count": 20,
   "id": "6f8e2cd5-2691-4022-8bf0-75767924ecae",
   "metadata": {
    "tags": []
   },
   "outputs": [],
   "source": [
    "import random\n",
    "import gym\n",
    "import numpy as np\n",
    "import matplotlib.pyplot as plt"
   ]
  },
  {
   "cell_type": "code",
   "execution_count": 36,
   "id": "7042a891-b4da-48d0-9004-947a831c781e",
   "metadata": {
    "tags": []
   },
   "outputs": [],
   "source": [
    "# Actions: Left = 0, Down = 1, Right = 2, Up = 3\n",
    "Actions = [0, 1, 2, 3]\n",
    "N_STATES = 16\n",
    "N_ACTIONS = len(Actions)\n",
    "N_EPISODES = 800000"
   ]
  },
  {
   "cell_type": "markdown",
   "id": "b7f6d3c5-5272-4fe4-b260-8900ed622bb7",
   "metadata": {},
   "source": [
    "#### Agent"
   ]
  },
  {
   "cell_type": "code",
   "execution_count": 37,
   "id": "562d66da-d5e0-4044-b7e6-c94011c41109",
   "metadata": {
    "tags": []
   },
   "outputs": [],
   "source": [
    "class Agent:\n",
    "    def __init__(self, alpha=0.001, gamma=0.90, n_actions=4, n_states=2, \n",
    "                 eps_start=1.0, eps_end=0.1, eps_dec=0.005):\n",
    "        self.alpha = alpha\n",
    "        self.gamma = gamma\n",
    "        self.n_actions = n_actions\n",
    "        self.n_states = n_states\n",
    "        self.epsilon = eps_start\n",
    "        self.eps_min = eps_end\n",
    "        self.eps_dec = eps_dec\n",
    "        \n",
    "        self.Q = {}\n",
    "        self.init_Q()\n",
    "        \n",
    "    def init_Q(self):\n",
    "        for p in range(self.n_states):\n",
    "            for q in range(self.n_actions):\n",
    "                self.Q[(p,q)] = 0.0\n",
    "                \n",
    "    def decide_action(self, state):\n",
    "        if np.random.random() < self.epsilon:\n",
    "            action = np.random.randint(0, self.n_actions)\n",
    "        else:\n",
    "            # Find the Q values for the given state \n",
    "            Q_values = np.array([self.Q[(state, a)] for a in range(self.n_actions)])\n",
    "            \n",
    "            # Find the position of the max. Q value\n",
    "            index_Q_max = np.argmax(Q_values)\n",
    "            \n",
    "            # Due to our indexing method - our action value is the index itself!\n",
    "            action = index_Q_max\n",
    "        return action\n",
    "    \n",
    "    # Decrease episilon geometrically\n",
    "    def decrement_epsilon(self):\n",
    "        self.epsilon = self.epsilon*self.eps_dec if self.epsilon>self.eps_min\\\n",
    "                       else self.eps_min\n",
    "    \n",
    "    # Bellman equation\n",
    "    def learn(self, state, action, reward, next_state):\n",
    "        \n",
    "        ### Step 1: For the NEXT state, find action with max Q\n",
    "        \n",
    "        # Find the Q values for the NEXT state \n",
    "        next_state_Q_values = np.array([self.Q[(next_state, a)] for a in range(self.n_actions)])\n",
    "        \n",
    "        # Find the position of the max. Q value\n",
    "        index_Q_max = np.argmax(next_state_Q_values)\n",
    "        \n",
    "        # Actions: Left = 0, Down = 1, Right = 2, Up = 3\n",
    "        # Index represents the action it-self, so index=0 is left, similarly index=2 implies go-right\n",
    "        # Due to our indexing method - our action value is the index itself!\n",
    "        action_max = index_Q_max\n",
    "\n",
    "        ### Step 2: Apply B.E.\n",
    "        self.Q[(state, action)] += self.alpha*(reward +\n",
    "                                        self.gamma*self.Q[(next_state, action_max)] -\n",
    "                                        self.Q[(state, action)])\n",
    "        self.decrement_epsilon()"
   ]
  },
  {
   "cell_type": "code",
   "execution_count": 38,
   "id": "f374f077-1df3-432f-938c-045fb6cc255b",
   "metadata": {
    "tags": []
   },
   "outputs": [],
   "source": [
    "env = gym.make('FrozenLake-v1')"
   ]
  },
  {
   "cell_type": "code",
   "execution_count": 39,
   "id": "a9a5bd24-ce51-4e29-a7d5-5876ea14308f",
   "metadata": {
    "tags": []
   },
   "outputs": [
    {
     "name": "stdout",
     "output_type": "stream",
     "text": [
      "episode  0 win pct 0.00 epsilon 1.00\n",
      "episode  50000 win pct 0.02 epsilon 0.82\n",
      "episode  100000 win pct 0.03 epsilon 0.66\n",
      "episode  150000 win pct 0.05 epsilon 0.50\n",
      "episode  200000 win pct 0.13 epsilon 0.35\n",
      "episode  250000 win pct 0.27 epsilon 0.22\n",
      "episode  300000 win pct 0.43 epsilon 0.13\n",
      "episode  350000 win pct 0.52 epsilon 0.06\n",
      "episode  400000 win pct 0.62 epsilon 0.02\n",
      "episode  450000 win pct 0.66 epsilon 0.01\n",
      "episode  500000 win pct 0.64 epsilon 0.01\n",
      "episode  550000 win pct 0.74 epsilon 0.01\n",
      "episode  600000 win pct 0.67 epsilon 0.01\n",
      "episode  650000 win pct 0.72 epsilon 0.01\n",
      "episode  700000 win pct 0.67 epsilon 0.01\n",
      "episode  750000 win pct 0.64 epsilon 0.01\n"
     ]
    }
   ],
   "source": [
    "n_plot_steps = 100\n",
    "n_print_steps = 50000\n",
    "average_scores = []\n",
    "scores = []\n",
    "\n",
    "agent = Agent(alpha=0.001, gamma=0.9, eps_start=1.0, eps_end=0.01, eps_dec=0.9999995, \n",
    "              n_actions=N_ACTIONS, n_states=N_STATES)\n",
    "\n",
    "for n in range(N_EPISODES):\n",
    "    done = False\n",
    "    score = 0\n",
    "\n",
    "    # Begin episode, each step is a time-step\n",
    "    state = env.reset()\n",
    "    while not done:\n",
    "        action = agent.decide_action(state)\n",
    "        # Perform suggested action, and get new reward and new state \n",
    "        #   say it moved from state x, by doing a left to state z\n",
    "        next_state, reward, done, info = env.step(action)\n",
    "        \n",
    "        # Learn: Update Q value\n",
    "        agent.learn(state, action, reward, next_state)\n",
    "        # Increment scores\n",
    "        score += reward\n",
    "        \n",
    "        # Update state\n",
    "        state = next_state\n",
    "    \n",
    "    # Episode terminated\n",
    "    scores.append(score)\n",
    "                \n",
    "    # print average every 10 records\n",
    "    if n % n_plot_steps == 0:\n",
    "        average = np.mean(scores[-n_plot_steps:])\n",
    "        average_scores.append(average)\n",
    "        if n % n_print_steps == 0:\n",
    "            print('episode ', n, 'win pct %.2f' % average, 'epsilon %.2f' % agent.epsilon)"
   ]
  },
  {
   "cell_type": "code",
   "execution_count": 40,
   "id": "5f876558-82cc-482f-bc3b-45a1c3e59eeb",
   "metadata": {
    "tags": []
   },
   "outputs": [
    {
     "data": {
      "image/png": "[encoded data removed]",
      "text/plain": [
       "<Figure size 900x300 with 1 Axes>"
      ]
     },
     "metadata": {},
     "output_type": "display_data"
    }
   ],
   "source": [
    "plt.figure(figsize=(9,3))\n",
    "plt.plot(average_scores)\n",
    "plt.title('Q-Learning: Avg. scores')\n",
    "plt.show()"
   ]
  },
  {
   "cell_type": "code",
   "execution_count": 34,
   "id": "b8a2e9dc-d9a0-4bdc-b9ce-c1ef64c21cd7",
   "metadata": {},
   "outputs": [],
   "source": [
    "# Actions: Left = 0, Down = 1, Right = 2, Up = 3 \n",
    "# Rewards: Reach goal(G): +1, Reach hole(H): 0, Reach frozen(F): 0\n",
    "# Environment\n",
    "# S F F F \n",
    "# F H*F*H \n",
    "# F F=F=H\n",
    "# H F+F+G\n",
    "\n",
    "# * 500K episodes\n",
    "# 500K episodes: State 6 *F*\n",
    "# (6, 0) l: 0.106, Hole\n",
    "# (6, 1) D: 0.093, BEST. Correct but low\n",
    "# (6, 2) R: 0.112, Hole\n",
    "# (6, 3) U: 0.023,\n",
    "\n",
    "# 500K episodes: State 10 =F=\n",
    "# (10, 0) L: 0.305, Correct\n",
    "# (10, 1) D: 0.259, BEST. Correct but low\n",
    "# (10, 2) R: 0.224, Hole\n",
    "# (10, 3) U: 0.105, Ok\n",
    "# 800K episodes: State 10 =F=\n",
    "(10, 0): 0.305,\n",
    " (10, 1): 0.27,\n",
    " (10, 2): 0.236,\n",
    " (10, 3): 0.109,\n",
    "\n",
    "# 500K episodes: State 14 +F+\n",
    "# (14, 0) l: 0.402, \n",
    "# (14, 1) D: 0.627, ?? Highest but falling off the ice\n",
    "# (14, 2) R: 0.602, BEST! = Goal. Lower than D?\n",
    "# (14, 3) U: 0.540, Ok\n",
    "# 800K episodes: State 14 +F+\n",
    "# (14, 0): 0.399,\n",
    "# (14, 1): 0.639,\n",
    "# (14, 2): 0.611,\n",
    "# (14, 3): 0.538,\n"
   ]
  },
  {
   "cell_type": "code",
   "execution_count": 41,
   "id": "c2b5541e-1930-4c5f-aec3-10ff60ebe036",
   "metadata": {
    "tags": []
   },
   "outputs": [
    {
     "data": {
      "text/plain": [
       "{(0, 0): 0.07,\n",
       " (0, 1): 0.065,\n",
       " (0, 2): 0.066,\n",
       " (0, 3): 0.06,\n",
       " (1, 0): 0.039,\n",
       " (1, 1): 0.043,\n",
       " (1, 2): 0.041,\n",
       " (1, 3): 0.061,\n",
       " (2, 0): 0.076,\n",
       " (2, 1): 0.068,\n",
       " (2, 2): 0.072,\n",
       " (2, 3): 0.057,\n",
       " (3, 0): 0.029,\n",
       " (3, 1): 0.029,\n",
       " (3, 2): 0.025,\n",
       " (3, 3): 0.055,\n",
       " (4, 0): 0.093,\n",
       " (4, 1): 0.071,\n",
       " (4, 2): 0.064,\n",
       " (4, 3): 0.049,\n",
       " (5, 0): 0.0,\n",
       " (5, 1): 0.0,\n",
       " (5, 2): 0.0,\n",
       " (5, 3): 0.0,\n",
       " (6, 0): 0.114,\n",
       " (6, 1): 0.09,\n",
       " (6, 2): 0.106,\n",
       " (6, 3): 0.022,\n",
       " (7, 0): 0.0,\n",
       " (7, 1): 0.0,\n",
       " (7, 2): 0.0,\n",
       " (7, 3): 0.0,\n",
       " (8, 0): 0.072,\n",
       " (8, 1): 0.116,\n",
       " (8, 2): 0.102,\n",
       " (8, 3): 0.148,\n",
       " (9, 0): 0.163,\n",
       " (9, 1): 0.25,\n",
       " (9, 2): 0.203,\n",
       " (9, 3): 0.136,\n",
       " (10, 0): 0.305,\n",
       " (10, 1): 0.27,\n",
       " (10, 2): 0.236,\n",
       " (10, 3): 0.109,\n",
       " (11, 0): 0.0,\n",
       " (11, 1): 0.0,\n",
       " (11, 2): 0.0,\n",
       " (11, 3): 0.0,\n",
       " (12, 0): 0.0,\n",
       " (12, 1): 0.0,\n",
       " (12, 2): 0.0,\n",
       " (12, 3): 0.0,\n",
       " (13, 0): 0.187,\n",
       " (13, 1): 0.318,\n",
       " (13, 2): 0.389,\n",
       " (13, 3): 0.264,\n",
       " (14, 0): 0.399,\n",
       " (14, 1): 0.639,\n",
       " (14, 2): 0.611,\n",
       " (14, 3): 0.538,\n",
       " (15, 0): 0.0,\n",
       " (15, 1): 0.0,\n",
       " (15, 2): 0.0,\n",
       " (15, 3): 0.0}"
      ]
     },
     "execution_count": 41,
     "metadata": {},
     "output_type": "execute_result"
    }
   ],
   "source": [
    "Qf=agent.Q.copy()\n",
    "for k, v in Qf.items():\n",
    "    Qf[k] = round(v,3)\n",
    "Qf"
   ]
  },
  {
   "cell_type": "code",
   "execution_count": 35,
   "id": "83218377-5f5c-4d0a-b31e-1e8f4ccc41b8",
   "metadata": {
    "tags": []
   },
   "outputs": [
    {
     "data": {
      "text/plain": [
       "{(0, 0): 0.068,\n",
       " (0, 1): 0.066,\n",
       " (0, 2): 0.066,\n",
       " (0, 3): 0.06,\n",
       " (1, 0): 0.039,\n",
       " (1, 1): 0.042,\n",
       " (1, 2): 0.041,\n",
       " (1, 3): 0.061,\n",
       " (2, 0): 0.074,\n",
       " (2, 1): 0.062,\n",
       " (2, 2): 0.066,\n",
       " (2, 3): 0.05,\n",
       " (3, 0): 0.032,\n",
       " (3, 1): 0.021,\n",
       " (3, 2): 0.013,\n",
       " (3, 3): 0.028,\n",
       " (4, 0): 0.091,\n",
       " (4, 1): 0.072,\n",
       " (4, 2): 0.064,\n",
       " (4, 3): 0.048,\n",
       " (5, 0): 0.0,\n",
       " (5, 1): 0.0,\n",
       " (5, 2): 0.0,\n",
       " (5, 3): 0.0,\n",
       " (6, 0): 0.106,\n",
       " (6, 1): 0.093,\n",
       " (6, 2): 0.112,\n",
       " (6, 3): 0.023,\n",
       " (7, 0): 0.0,\n",
       " (7, 1): 0.0,\n",
       " (7, 2): 0.0,\n",
       " (7, 3): 0.0,\n",
       " (8, 0): 0.072,\n",
       " (8, 1): 0.117,\n",
       " (8, 2): 0.101,\n",
       " (8, 3): 0.142,\n",
       " (9, 0): 0.157,\n",
       " (9, 1): 0.248,\n",
       " (9, 2): 0.207,\n",
       " (9, 3): 0.133,\n",
       " (10, 0): 0.305,\n",
       " (10, 1): 0.259,\n",
       " (10, 2): 0.224,\n",
       " (10, 3): 0.105,\n",
       " (11, 0): 0.0,\n",
       " (11, 1): 0.0,\n",
       " (11, 2): 0.0,\n",
       " (11, 3): 0.0,\n",
       " (12, 0): 0.0,\n",
       " (12, 1): 0.0,\n",
       " (12, 2): 0.0,\n",
       " (12, 3): 0.0,\n",
       " (13, 0): 0.19,\n",
       " (13, 1): 0.308,\n",
       " (13, 2): 0.372,\n",
       " (13, 3): 0.264,\n",
       " (14, 0): 0.402,\n",
       " (14, 1): 0.627,\n",
       " (14, 2): 0.602,\n",
       " (14, 3): 0.54,\n",
       " (15, 0): 0.0,\n",
       " (15, 1): 0.0,\n",
       " (15, 2): 0.0,\n",
       " (15, 3): 0.0}"
      ]
     },
     "execution_count": 35,
     "metadata": {},
     "output_type": "execute_result"
    }
   ],
   "source": [
    "Qf=agent.Q.copy()\n",
    "for k, v in Qf.items():\n",
    "    Qf[k] = round(v,3)\n",
    "Qf"
   ]
  },
  {
   "cell_type": "code",
   "execution_count": null,
   "id": "0d1cc1b9-0b85-4b4a-9aa1-f413a1ca9779",
   "metadata": {},
   "outputs": [],
   "source": []
  },
  {
   "cell_type": "markdown",
   "id": "d41d011b-e2b6-41ef-aa87-5233dacf2ee4",
   "metadata": {
    "tags": []
   },
   "source": [
    "#### Ex.1 plot: Deterministic Policy: Avg. score, per 10 episodes"
   ]
  },
  {
   "cell_type": "code",
   "execution_count": 27,
   "id": "a0095473-86e1-4e98-887e-99ee54d0256b",
   "metadata": {
    "tags": []
   },
   "outputs": [],
   "source": [
    "#plt.figure(figsize=(9,3))\n",
    "#plt.plot(average_scores)\n",
    "#plt.title('Deterministic Policy: Avg. score, per 10 episodes')\n",
    "#plt.show()"
   ]
  },
  {
   "cell_type": "code",
   "execution_count": null,
   "id": "5c36f565-6dfc-4a26-8bde-076b7daeb57e",
   "metadata": {},
   "outputs": [],
   "source": []
  }
 ],
 "metadata": {
  "kernelspec": {
   "display_name": "RL",
   "language": "python",
   "name": "rl"
  },
  "language_info": {
   "codemirror_mode": {
    "name": "ipython",
    "version": 3
   },
   "file_extension": ".py",
   "mimetype": "text/x-python",
   "name": "python",
   "nbconvert_exporter": "python",
   "pygments_lexer": "ipython3",
   "version": "3.9.1"
  }
 },
 "nbformat": 4,
 "nbformat_minor": 5
}
