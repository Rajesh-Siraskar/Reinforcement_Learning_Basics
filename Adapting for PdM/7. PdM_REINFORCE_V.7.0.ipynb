{
 "cells": [
  {
   "cell_type": "markdown",
   "id": "b3c15c68-04b6-4591-9e1d-9c232b135cc0",
   "metadata": {
    "tags": []
   },
   "source": [
    "## Milling Tool Wear Maintenance Policy using the REINFORCE algorithm\n",
    "\n",
    "- Ver. 4.1: 01-May-2023 - Improved plots\n",
    "- Ver. 4.5: 01-May-2023 - Add Stable-Baselines algo.\n",
    "- Ver. 4.6: 02-May-2023 - Expt RF vs SB-3 PPO, scaled rewards: 1/10^6 \n",
    "- Ver. 4.8: 06-May-2023 - Auto run SB3 algos.\n",
    "- Ver. 5.0: 06-May-2023 - Re-factor. Functions conversions to enable test runs.\n",
    "- Ver. 5.1: 07-May-2023 - PPO behaviour. For SB-3 models, correct test set reshuffle and retraining of models everytime \n",
    "- Ver. 5.2: 07-May-2023 - Test cases sample 40 (constant) and _without_ replacement\n",
    "- Ver. 5.3: 08-May-2023 - Do not sort Test cases. Possible cause of trends in ppo?\n",
    "- Ver. 6.0: 08-May-2023 - Train once, save model, test multiple times. Block storing of model training progress\n",
    "- Ver. 6.1: 08-May-2023 - Add pr., rc., f1 scores\n",
    "- Ver. 6.2: 08-May-2023 - Fix div. by zero warnings\n",
    "- Ver. 7.0: 09-May-2023 - Introduced two functions to compute algo. level aggregated metrics and save to a file"
   ]
  },
  {
   "cell_type": "code",
   "execution_count": 1,
   "id": "f8c941c0-893c-45f4-9a5f-e06ac2d56aea",
   "metadata": {},
   "outputs": [],
   "source": [
    "import numpy as np\n",
    "import pandas as pd\n",
    "\n",
    "import milling_tool_environment\n",
    "import utilities\n",
    "from milling_tool_environment import MillingTool_V2\n",
    "from utilities import compute_metrics, write_metrics_report, store_results, plot_learning_curve, single_axes_plot\n",
    "from utilities import two_axes_plot, two_variable_plot, plot_error_bounds, test_script, write_test_results\n",
    "from reinforce_classes import PolicyNetwork, Agent\n",
    "\n",
    "import datetime\n",
    "dt = datetime.datetime.now()\n",
    "dt_d = dt.strftime('%d-%b-%Y')\n",
    "dt_t = dt.strftime('%H_%M_%S')"
   ]
  },
  {
   "cell_type": "code",
   "execution_count": 2,
   "id": "e493bdc6-a811-4476-bcdb-1065e2870d35",
   "metadata": {},
   "outputs": [
    {
     "data": {
      "text/plain": [
       "<module 'utilities' from 'D:\\\\Rajesh\\\\ResearchLab\\\\LG_\\\\utilities.py'>"
      ]
     },
     "execution_count": 2,
     "metadata": {},
     "output_type": "execute_result"
    }
   ],
   "source": [
    "import importlib\n",
    "importlib.reload(milling_tool_environment)\n",
    "importlib.reload(utilities)"
   ]
  },
  {
   "cell_type": "code",
   "execution_count": 3,
   "id": "d834cced-49ab-4ce9-9826-11fc60576b59",
   "metadata": {
    "tags": []
   },
   "outputs": [
    {
     "name": "stdout",
     "output_type": "stream",
     "text": [
      "\n",
      " -- Columns added to results file  results_plots/V_Test_test_results.csv\n"
     ]
    }
   ],
   "source": [
    "VERSION = '7_WNB_1e2_5p_600_T3_'\n",
    "ENVIRONMENT_INFO = 'Simulated. Simple, single-state (wear)'\n",
    "TEST_INFO = 'Sampled from training data'\n",
    "EPISODES = 600 # Train for N episodes. # Suggested 600\n",
    "TEST_CASES = 40\n",
    "\n",
    "# Milling operation constants\n",
    "WEAR_THRESHOLD = 3.0 # mm\n",
    "WEAR_THRESHOLD_NORMALIZED = 0.0 # normalized to the max wear threshold\n",
    "MILLING_OPERATIONS_MAX = 300 # Suggested 300\n",
    "ADD_NOISE = 1e2 # 0 for no noise. Factor to apply on np.random.rand(). For e.g. 1e2 or 1e3 are factors for higher and lower noise. \n",
    "BREAKDOWN_CHANCE = 0.05\n",
    "\n",
    "# Policy network learning parameters\n",
    "gamma = 0.99\n",
    "alpha = 0.01\n",
    "\n",
    "PREFIX = f'results_plots/V_{VERSION}_Tool_Wear_{dt_d}_{dt_t}'\n",
    "DATA_FILE = 'Tool_Wear_VB.csv'\n",
    "RESULTS_FILE = f'results_plots/V_{VERSION}_test_results.csv'\n",
    "METRICS_FILE = f'results_plots/V_{VERSION}_metrics.csv'\n",
    "RF_TRAINING_FILE = f'results_plots/V_{VERSION}_RF_training_{dt_d}_{dt_t}.csv'\n",
    "\n",
    "print('\\n -- Columns added to results file ', RESULTS_FILE)\n",
    "results = ['Date', 'Time', 'Round', 'Environment', 'Training_data', 'Test_data', 'Algorithm', 'Episodes', 'Normal_cases', 'Normal_error', \n",
    "           'Replace_cases', 'Replace_error', 'Overall_error', \n",
    "           'Wtd_Precision', 'Wtd_Recall', 'F1_Beta']\n",
    "write_test_results(results, RESULTS_FILE)"
   ]
  },
  {
   "cell_type": "code",
   "execution_count": 4,
   "id": "4269138f-d24a-4211-bf97-a4cfcc6606f0",
   "metadata": {},
   "outputs": [
    {
     "name": "stdout",
     "output_type": "stream",
     "text": [
      "Tool wear data imported (121 records). WEAR_THRESHOLD_NORMALIZED: 0.168 \n",
      "\n",
      "\n"
     ]
    }
   ],
   "source": [
    "## Read data\n",
    "df = pd.read_csv(DATA_FILE)\n",
    "df = df[['time', 'VB_mm', 'ACTION_CODE']]\n",
    "\n",
    "# Normalizing entire df with min-max scaling\n",
    "WEAR_MIN = df['VB_mm'].min() \n",
    "WEAR_MAX = df['VB_mm'].max()\n",
    "WEAR_THRESHOLD_NORMALIZED = (WEAR_THRESHOLD-WEAR_MIN)/(WEAR_MAX-WEAR_MIN)\n",
    "df_normalized = (df-df.min())/(df.max()-df.min())\n",
    "df_normalized['ACTION_CODE'] = df['ACTION_CODE']\n",
    "print(f'Tool wear data imported ({len(df.index)} records). WEAR_THRESHOLD_NORMALIZED: {WEAR_THRESHOLD_NORMALIZED:4.3f} \\n\\n')\n",
    "\n",
    "## Visualize the data\n",
    "# n_records = len(df.index)\n",
    "# x = df['time'].values.tolist()\n",
    "# y1 = df['VB_mm'].values.tolist()\n",
    "# y2 = df['ACTION_CODE'].values.tolist()\n",
    "# two_axes_plot(x, y1, y2, title='Tool Wear (mm) data', x_label='Time', y1_label='Tool Wear (mm)', y2_label='Action code (1=Replace)', xticks=10,threshold=WEAR_THRESHOLD)"
   ]
  },
  {
   "cell_type": "markdown",
   "id": "72084a8c-a494-4add-adcd-c9b26eaff5b0",
   "metadata": {},
   "source": [
    "## REINFORCE RL Algorithm"
   ]
  },
  {
   "cell_type": "code",
   "execution_count": 5,
   "id": "f9395ab9-3a67-4329-b051-9675216294a9",
   "metadata": {
    "tags": []
   },
   "outputs": [
    {
     "name": "stdout",
     "output_type": "stream",
     "text": [
      "[0000] Loss:  -1.05e-02 | Reward:  -2.36e-03 | Ep.length: 0010\n"
     ]
    }
   ],
   "source": [
    "### Main loop\n",
    "rewards_history = []\n",
    "loss_history = []\n",
    "training_stats = []\n",
    "\n",
    "env = MillingTool_V2(df_normalized, WEAR_THRESHOLD_NORMALIZED, MILLING_OPERATIONS_MAX, ADD_NOISE, BREAKDOWN_CHANCE)\n",
    "\n",
    "input_dim = env.observation_space.shape[0]\n",
    "output_dim = env.action_space.n\n",
    "\n",
    "agent_RF = Agent(input_dim, output_dim, alpha, gamma)\n",
    "\n",
    "for episode in range(EPISODES):\n",
    "    state = env.reset()\n",
    "\n",
    "    # Sample a trajectory\n",
    "    for t in range(MILLING_OPERATIONS_MAX): # Max. milling operations desired\n",
    "        action = agent_RF.act(state)\n",
    "        state, reward, done, info = env.step(action)\n",
    "        agent_RF.rewards.append(reward)\n",
    "        #env.render()\n",
    "        if done:\n",
    "            # print('** DONE **', info)\n",
    "            break\n",
    "\n",
    "    # Learn during this episode \n",
    "    loss = agent_RF.learn() # train per episode\n",
    "    total_reward = sum(agent_RF.rewards)\n",
    "\n",
    "    # Record statistics for this episode\n",
    "    rewards_history.append(total_reward)\n",
    "    loss_history.append(loss.item()) # Extract values from list of torch items for plotting\n",
    "\n",
    "    # On-policy - so discard all data \n",
    "    agent_RF.onpolicy_reset()\n",
    "\n",
    "    if (episode%100 ==0):\n",
    "         print(f'[{episode:04d}] Loss: {loss:>10.2e} | Reward: {total_reward:>10.2e} | Ep.length: {env.ep_length:04d}')"
   ]
  },
  {
   "cell_type": "code",
   "execution_count": 6,
   "id": "c3c60e56-6f76-4caf-b199-f9f9130a8264",
   "metadata": {
    "tags": []
   },
   "outputs": [
    {
     "data": {
      "image/png": "[encoded data removed]",
      "text/plain": [
       "<Figure size 900x400 with 1 Axes>"
      ]
     },
     "metadata": {},
     "output_type": "display_data"
    }
   ],
   "source": [
    "x = [i for i in range(EPISODES)]\n",
    "\n",
    "## Moving average for rewards\n",
    "ma_window_size = 10\n",
    "# # Convert error array to pandas series\n",
    "rewards = pd.Series(rewards_history)\n",
    "windows = rewards.rolling(ma_window_size)\n",
    "moving_avg = windows.mean()\n",
    "moving_avg_lst = moving_avg.tolist()\n",
    "y1 = rewards\n",
    "y2 = moving_avg_lst\n",
    "\n",
    "# filename = PREFIX + '_Avg_episode_rewards.png'\n",
    "# two_variable_plot(x, y1, y2, 'Avg. rewards per episode', 'Episode', 'Avg. Rewards', 'Moving Avg.', 10, filename)\n",
    "\n",
    "plot_error_bounds(x, y1)\n",
    "\n",
    "# filename = PREFIX + '_Episode_Length.png'\n",
    "# single_axes_plot(x, env.ep_length_history, 'Episode length', 'Episode', 'No of milling operations', 10, 0.0, filename)\n",
    "\n",
    "# filename = PREFIX + '_Tool_Replacements.png'\n",
    "# single_axes_plot(x, env.ep_tool_replaced_history, 'Tool replacements per episode', 'Episode', 'Replacements', 10, 0.0, filename)"
   ]
  },
  {
   "cell_type": "code",
   "execution_count": 7,
   "id": "72ac8e11-523a-4111-9aeb-05acf5393dd4",
   "metadata": {},
   "outputs": [
    {
     "name": "stdout",
     "output_type": "stream",
     "text": [
      "\n",
      " === REINFORCE model trained ===\n",
      "\n",
      "Algorithm\tNormal\tError %\tReplace\tError %\tOverall error%\n",
      "REINFORCE\t9\t0.222\t1\t1.000\t0.300\n",
      "--------------------------------------------------------------------------------\n",
      "Algorithm\tNormal\tError %\tReplace\tError %\tOverall error%\n",
      "REINFORCE\t7\t0.429\t3\t0.667\t0.500\n",
      "--------------------------------------------------------------------------------\n",
      "Algorithm\tNormal\tError %\tReplace\tError %\tOverall error%\n",
      "REINFORCE\t6\t0.167\t4\t1.000\t0.500\n",
      "--------------------------------------------------------------------------------\n",
      "Algorithm\tNormal\tError %\tReplace\tError %\tOverall error%\n",
      "REINFORCE\t7\t0.143\t3\t1.000\t0.400\n",
      "--------------------------------------------------------------------------------\n",
      "Algorithm\tNormal\tError %\tReplace\tError %\tOverall error%\n",
      "REINFORCE\t8\t0.000\t2\t1.000\t0.200\n",
      "--------------------------------------------------------------------------------\n",
      "Algorithm\tNormal\tError %\tReplace\tError %\tOverall error%\n",
      "REINFORCE\t5\t0.200\t5\t0.800\t0.500\n",
      "--------------------------------------------------------------------------------\n",
      "Algorithm\tNormal\tError %\tReplace\tError %\tOverall error%\n",
      "REINFORCE\t6\t0.167\t4\t0.750\t0.400\n",
      "--------------------------------------------------------------------------------\n",
      "Algorithm\tNormal\tError %\tReplace\tError %\tOverall error%\n",
      "REINFORCE\t7\t0.000\t3\t0.333\t0.100\n",
      "--------------------------------------------------------------------------------\n",
      "Algorithm\tNormal\tError %\tReplace\tError %\tOverall error%\n",
      "REINFORCE\t9\t0.111\t1\t1.000\t0.200\n",
      "--------------------------------------------------------------------------------\n",
      "Algorithm\tNormal\tError %\tReplace\tError %\tOverall error%\n",
      "REINFORCE\t7\t0.000\t3\t0.667\t0.200\n",
      "--------------------------------------------------------------------------------\n",
      "\n",
      "- Test results written to file: results_plots/V_Test_test_results.csv\n"
     ]
    }
   ],
   "source": [
    "# Process results\n",
    "# eps = [i for i in range(EPISODES)]\n",
    "# store_results(RF_TRAINING_FILE, training_round, eps, rewards_history, env.ep_tool_replaced_history)\n",
    "print('\\n === REINFORCE model trained ===\\n')\n",
    "for test_round in range(TEST_CASES):\n",
    "    # Create test cases\n",
    "    test_cases = np.random.choice(env.df_length-1, TEST_CASES, replace=False)\n",
    "    results = test_script(test_round, df_normalized, 'REINFORCE', EPISODES, env, ENVIRONMENT_INFO, agent_RF, test_cases, TEST_INFO, DATA_FILE, RESULTS_FILE)\n",
    "    write_test_results(results, RESULTS_FILE)\n",
    "    \n",
    "print(f'\\n- Test results written to file: {RESULTS_FILE}')"
   ]
  },
  {
   "cell_type": "markdown",
   "id": "63bee41b-1cfe-4dc2-afb4-d1f0a3bd8318",
   "metadata": {},
   "source": [
    "## Stable-Baselines Algorithms"
   ]
  },
  {
   "cell_type": "code",
   "execution_count": 8,
   "id": "7d6c629b-ef55-4ecc-bff7-98dc2c924b80",
   "metadata": {},
   "outputs": [],
   "source": [
    "from stable_baselines3.common.vec_env import DummyVecEnv\n",
    "from stable_baselines3 import A2C, PPO, DQN"
   ]
  },
  {
   "cell_type": "code",
   "execution_count": 9,
   "id": "8ac6bae0-24c8-49f4-beb0-3f6ac95a5c4f",
   "metadata": {
    "tags": []
   },
   "outputs": [
    {
     "name": "stdout",
     "output_type": "stream",
     "text": [
      "\n",
      "\n",
      "A2C - Training and Testing Stable-Baselines-3 A2C algorithm\n",
      "Algorithm\tNormal\tError %\tReplace\tError %\tOverall error%\n",
      "A2C\t8\t0.375\t2\t1.000\t0.500\n",
      "--------------------------------------------------------------------------------\n",
      "Algorithm\tNormal\tError %\tReplace\tError %\tOverall error%\n",
      "A2C\t5\t0.400\t5\t0.600\t0.500\n",
      "--------------------------------------------------------------------------------\n",
      "Algorithm\tNormal\tError %\tReplace\tError %\tOverall error%\n",
      "A2C\t6\t0.500\t4\t0.750\t0.600\n",
      "--------------------------------------------------------------------------------\n",
      "Algorithm\tNormal\tError %\tReplace\tError %\tOverall error%\n",
      "A2C\t8\t0.500\t2\t0.000\t0.400\n",
      "--------------------------------------------------------------------------------\n",
      "Algorithm\tNormal\tError %\tReplace\tError %\tOverall error%\n",
      "A2C\t5\t0.600\t5\t0.600\t0.600\n",
      "--------------------------------------------------------------------------------\n",
      "Algorithm\tNormal\tError %\tReplace\tError %\tOverall error%\n",
      "A2C\t7\t0.714\t3\t0.333\t0.600\n",
      "--------------------------------------------------------------------------------\n",
      "Algorithm\tNormal\tError %\tReplace\tError %\tOverall error%\n",
      "A2C\t8\t0.375\t2\t0.500\t0.400\n",
      "--------------------------------------------------------------------------------\n",
      "Algorithm\tNormal\tError %\tReplace\tError %\tOverall error%\n",
      "A2C\t7\t0.857\t3\t0.000\t0.600\n",
      "--------------------------------------------------------------------------------\n",
      "Algorithm\tNormal\tError %\tReplace\tError %\tOverall error%\n",
      "A2C\t4\t0.500\t6\t0.667\t0.600\n",
      "--------------------------------------------------------------------------------\n",
      "Algorithm\tNormal\tError %\tReplace\tError %\tOverall error%\n",
      "A2C\t8\t0.375\t2\t0.500\t0.400\n",
      "--------------------------------------------------------------------------------\n",
      "\n",
      "\n",
      "DQN - Training and Testing Stable-Baselines-3 DQN algorithm\n",
      "Algorithm\tNormal\tError %\tReplace\tError %\tOverall error%\n",
      "DQN\t6\t0.333\t4\t0.500\t0.400\n",
      "--------------------------------------------------------------------------------\n",
      "Algorithm\tNormal\tError %\tReplace\tError %\tOverall error%\n",
      "DQN\t7\t0.571\t3\t0.333\t0.500\n",
      "--------------------------------------------------------------------------------\n",
      "Algorithm\tNormal\tError %\tReplace\tError %\tOverall error%\n",
      "DQN\t7\t0.143\t3\t0.000\t0.100\n",
      "--------------------------------------------------------------------------------\n",
      "Algorithm\tNormal\tError %\tReplace\tError %\tOverall error%\n",
      "DQN\t7\t0.286\t3\t0.667\t0.400\n",
      "--------------------------------------------------------------------------------\n",
      "Algorithm\tNormal\tError %\tReplace\tError %\tOverall error%\n",
      "DQN\t8\t0.125\t2\t0.000\t0.100\n",
      "--------------------------------------------------------------------------------\n",
      "Algorithm\tNormal\tError %\tReplace\tError %\tOverall error%\n",
      "DQN\t2\t0.000\t8\t0.500\t0.400\n",
      "--------------------------------------------------------------------------------\n",
      "Algorithm\tNormal\tError %\tReplace\tError %\tOverall error%\n",
      "DQN\t7\t0.286\t3\t0.000\t0.200\n",
      "--------------------------------------------------------------------------------\n",
      "Algorithm\tNormal\tError %\tReplace\tError %\tOverall error%\n",
      "DQN\t8\t0.125\t2\t0.000\t0.100\n",
      "--------------------------------------------------------------------------------\n",
      "Algorithm\tNormal\tError %\tReplace\tError %\tOverall error%\n",
      "DQN\t9\t0.444\t1\t0.000\t0.400\n",
      "--------------------------------------------------------------------------------\n",
      "Algorithm\tNormal\tError %\tReplace\tError %\tOverall error%\n",
      "DQN\t6\t0.167\t4\t0.250\t0.200\n",
      "--------------------------------------------------------------------------------\n",
      "\n",
      "\n",
      "PPO - Training and Testing Stable-Baselines-3 PPO algorithm\n",
      "Algorithm\tNormal\tError %\tReplace\tError %\tOverall error%\n",
      "PPO\t7\t0.286\t3\t0.667\t0.400\n",
      "--------------------------------------------------------------------------------\n",
      "Algorithm\tNormal\tError %\tReplace\tError %\tOverall error%\n",
      "PPO\t9\t0.556\t1\t1.000\t0.600\n",
      "--------------------------------------------------------------------------------\n",
      "Algorithm\tNormal\tError %\tReplace\tError %\tOverall error%\n",
      "PPO\t7\t0.286\t3\t0.333\t0.300\n",
      "--------------------------------------------------------------------------------\n",
      "Algorithm\tNormal\tError %\tReplace\tError %\tOverall error%\n",
      "PPO\t6\t0.333\t4\t0.750\t0.500\n",
      "--------------------------------------------------------------------------------\n",
      "Algorithm\tNormal\tError %\tReplace\tError %\tOverall error%\n",
      "PPO\t5\t0.200\t5\t0.800\t0.500\n",
      "--------------------------------------------------------------------------------\n",
      "Algorithm\tNormal\tError %\tReplace\tError %\tOverall error%\n",
      "PPO\t8\t0.375\t2\t0.500\t0.400\n",
      "--------------------------------------------------------------------------------\n",
      "Algorithm\tNormal\tError %\tReplace\tError %\tOverall error%\n",
      "PPO\t6\t0.667\t4\t0.750\t0.700\n",
      "--------------------------------------------------------------------------------\n",
      "Algorithm\tNormal\tError %\tReplace\tError %\tOverall error%\n",
      "PPO\t7\t0.286\t3\t0.333\t0.300\n",
      "--------------------------------------------------------------------------------\n",
      "Algorithm\tNormal\tError %\tReplace\tError %\tOverall error%\n",
      "PPO\t8\t0.125\t2\t0.500\t0.200\n",
      "--------------------------------------------------------------------------------\n",
      "Algorithm\tNormal\tError %\tReplace\tError %\tOverall error%\n",
      "PPO\t8\t0.375\t2\t0.000\t0.300\n",
      "--------------------------------------------------------------------------------\n"
     ]
    }
   ],
   "source": [
    "algos = ['A2C','DQN','PPO']\n",
    "for SB_ALGO in algos:\n",
    "    if SB_ALGO.upper() == 'A2C': agent_SB = A2C('MlpPolicy', env)\n",
    "    if SB_ALGO.upper() == 'DQN': agent_SB = DQN('MlpPolicy', env)\n",
    "    if SB_ALGO.upper() == 'PPO': agent_SB = PPO('MlpPolicy', env)\n",
    "\n",
    "    env = MillingTool_V2(df_normalized, WEAR_THRESHOLD_NORMALIZED, MILLING_OPERATIONS_MAX, ADD_NOISE, BREAKDOWN_CHANCE)\n",
    "    print(f'\\n\\n{SB_ALGO} - Training and Testing Stable-Baselines-3 {SB_ALGO} algorithm')\n",
    "    agent_SB.learn(total_timesteps=EPISODES)\n",
    "        \n",
    "    for test_round in range(TEST_CASES):\n",
    "        # Create test cases\n",
    "        test_cases = np.random.choice(env.df_length-1, TEST_CASES, replace=False)\n",
    "        results = test_script(test_round, df_normalized, SB_ALGO, EPISODES, env, ENVIRONMENT_INFO, agent_SB, test_cases, TEST_INFO, DATA_FILE, RESULTS_FILE)\n",
    "        write_test_results(results, RESULTS_FILE)\n",
    "        "
   ]
  },
  {
   "cell_type": "markdown",
   "id": "06c3a3f2-22eb-44b3-9210-c8f5d62ec781",
   "metadata": {},
   "source": [
    "### Create a consolidated algorithm wise metrics summary"
   ]
  },
  {
   "cell_type": "code",
   "execution_count": null,
   "id": "c7d521a6-4992-4a15-8948-46fba8c0365e",
   "metadata": {},
   "outputs": [],
   "source": []
  },
  {
   "cell_type": "code",
   "execution_count": 11,
   "id": "eaee1d27-cd9c-421f-b341-83f2971c0ba0",
   "metadata": {},
   "outputs": [
    {
     "name": "stdout",
     "output_type": "stream",
     "text": [
      "-------------------------------------------------------------------------------- \n",
      " Algorithm level consolidated metrics being reported to file:\n",
      " results_plots/V_Test_metrics.csv\n",
      " --------------------------------------------------------------------------------\n",
      "- Experiment related meta info written\n",
      "- Algorithm level consolidated metrics reported to file\n",
      "\n",
      "\n",
      " ================= END OF PROGRAM =================\n"
     ]
    }
   ],
   "source": [
    "print(80*'-', f'\\n Algorithm level consolidated metrics being reported to file:\\n {METRICS_FILE}\\n', 80*'-')\n",
    "\n",
    "header_columns = ['Date', 'Time', 'Environment', 'Noise', 'Breakdown_chance', 'Train_data', 'Episodes', 'Test_info', 'Test_cases']\n",
    "write_test_results(header_columns, METRICS_FILE)\n",
    "\n",
    "dt_t = dt.strftime('%H:%M:%S')\n",
    "header_info = [dt_d, dt_t, ENVIRONMENT_INFO, ADD_NOISE, BREAKDOWN_CHANCE, DATA_FILE, EPISODES, TEST_INFO, TEST_CASES]\n",
    "write_test_results(header_info, METRICS_FILE)\n",
    "write_test_results([], METRICS_FILE) # leave a blank line\n",
    "\n",
    "print('- Experiment related meta info written')\n",
    "\n",
    "df_algo_results = pd.read_csv(RESULTS_FILE)\n",
    "algo_metrics = compute_metrics(df_algo_results)\n",
    "write_metrics_report(algo_metrics, METRICS_FILE, 4)\n",
    "write_test_results([], METRICS_FILE) # leave a blank line\n",
    "write_test_results([], METRICS_FILE) # leave a blank line\n",
    "print('- Algorithm level consolidated metrics reported to file')\n",
    "\n",
    "print('\\n\\n ================= END OF PROGRAM =================')"
   ]
  },
  {
   "cell_type": "code",
   "execution_count": null,
   "id": "cd1d04b3-aed3-4555-a27c-850e96d42e7b",
   "metadata": {},
   "outputs": [],
   "source": []
  }
 ],
 "metadata": {
  "kernelspec": {
   "display_name": "RL",
   "language": "python",
   "name": "rl"
  },
  "language_info": {
   "codemirror_mode": {
    "name": "ipython",
    "version": 3
   },
   "file_extension": ".py",
   "mimetype": "text/x-python",
   "name": "python",
   "nbconvert_exporter": "python",
   "pygments_lexer": "ipython3",
   "version": "3.9.1"
  }
 },
 "nbformat": 4,
 "nbformat_minor": 5
}
