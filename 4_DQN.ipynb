{
 "cells": [
  {
   "cell_type": "markdown",
   "id": "b51818bb-e2a0-48fc-8030-aa2a9beb1122",
   "metadata": {
    "tags": []
   },
   "source": [
    "## Deep Q-Learning (Ex. 4) \n",
    "--------------------------------------------------------------------\n",
    "#### Approach\n",
    "1. Separate Network class and Agent class\n",
    "2. Network class defines NN and **importantly** how the Q-table is represented as a function approximation\n",
    "\n",
    "**Network class**\n",
    "- Input dimensions: xxx\n",
    "- First layer: Nodes = **input dim.** and fully connected onward to 2nd layer with 128 nodes\n",
    "    - ```self.fc_1 = nn.Linear(*input_dims, 128)```\n",
    "- Second layer: 128 nodes fully connected onward to final output layer\n",
    "    - ```self.fc_2 = nn.Linear(128, n_actions)```\n",
    "- Output layer: nodes = n_actions\n",
    "- **Important concept**:\n",
    "   - Output layer estimates Q values\n",
    "   - Q = state-action value function\n",
    "   - Given the environment i.e. state as input, \n",
    "   - **Output the \"*value*\" of each action for each state** \n",
    "   \n",
    "**Agent class**\n",
    "- Agent itself is not a Q estimate\n",
    "- Agent _has_ a Q estimate, along with other things: learning, epsilon handling etc."
   ]
  },
  {
   "cell_type": "code",
   "execution_count": 14,
   "id": "a03166aa-32f7-49d9-81d3-43977c11f4e6",
   "metadata": {
    "tags": []
   },
   "outputs": [],
   "source": [
    "import gym\n",
    "import numpy as np\n",
    "\n",
    "import torch.nn as nn\n",
    "import torch.nn.functional as functional # For activations functions\n",
    "import torch.optim as optim\n",
    "import torch as T\n",
    "\n",
    "# Import custom utilities\n",
    "from utilities import plot_learning_curve"
   ]
  },
  {
   "cell_type": "code",
   "execution_count": 59,
   "id": "f478fec1-f26d-449c-a040-f35316e42c45",
   "metadata": {},
   "outputs": [],
   "source": [
    "N_EPISODES = 10000\n",
    "N_AVG_REWARDS = 100"
   ]
  },
  {
   "cell_type": "markdown",
   "id": "0c41c90d-9960-4037-ad65-4d9d58d66e68",
   "metadata": {
    "jp-MarkdownHeadingCollapsed": true,
    "tags": []
   },
   "source": [
    "### Network Class"
   ]
  },
  {
   "cell_type": "code",
   "execution_count": 45,
   "id": "ece592f9-60ac-4500-b32d-73e278a565ae",
   "metadata": {
    "tags": []
   },
   "outputs": [],
   "source": [
    "class LinearDQN (nn.Module):\n",
    "    \n",
    "    # Step 1: Initialize NN. classes=n_actions, input_dims=n_states\n",
    "    def __init__(self, lr=0.001, n_actions=4, input_dims=2):\n",
    "        super(LinearDQN, self).__init__();\n",
    "        \n",
    "        # 1.1. Two  fully-connected (fc) layers\n",
    "        self.fc_1 = nn.Linear(*input_dims, 128)\n",
    "        # Output layer estimates Q values. \n",
    "        # Q = state-action value functions\n",
    "        # Given a state as input, value of each action for each state\n",
    "        self.fc_2 = nn.Linear(128, n_actions)\n",
    "        \n",
    "        # 1.2. Optimizer. self.parameters() tells optimizer what we are optimizing\n",
    "        self.optimizer = optim.Adam(self.parameters(), lr=lr)\n",
    "        \n",
    "        # 1.3. Loss function: Alternative CrossEntropyLoss(), huber-loss etc.\n",
    "        self.loss = nn.MSELoss()\n",
    "        \n",
    "        # 1.4. Detect GPU and use if available\n",
    "        self.device = T.device('cuda:0' if T.cuda.is_available() else 'cpu')\n",
    "        \n",
    "        # 1.5. Send entire nn to this device\n",
    "        self.to(self.device)\n",
    "    \n",
    "    # PyTorch handles back-prop for us, but feed-forward also. we must provide\n",
    "    # Step 2: Feed-forward algo.\n",
    "    def feedforward(self, state):\n",
    "        # 2.1. Activate each layer and feed-forward into next\n",
    "        # 2.2. Output of last layer is NOT activate.\n",
    "        # The MSE loss function activates this and converts it \n",
    "        #   into probabilities that will add up to 1.0\n",
    "        layer_1 = functional.relu(self.fc_1(state))\n",
    "        actions = self.fc_2(layer_1)        \n",
    "        return (actions)"
   ]
  },
  {
   "cell_type": "markdown",
   "id": "ca3c17c1-3622-4264-8eb8-56ba26d4dea2",
   "metadata": {
    "jp-MarkdownHeadingCollapsed": true,
    "tags": []
   },
   "source": [
    "### Agent Class\n",
    "\n",
    "#### Bellman eq. and mapping it's components to the code elements\n",
    "\n",
    "**1. Bellman Equation**:\n",
    "- Q(s,a) <- Q(s,a) + alpha * [R + gamma * Q(s',a_max) - Q(s,a)]\n",
    "\n",
    "**2. Equation from tabular Q implementation**:\n",
    "\n",
    "```self.Q[(state, action)] += self.alpha*(reward + self.gamma*self.Q[(next_state, action_max)] - self.Q[(state, action)])```\n",
    "\n",
    "**3. Code versions**: _(Note my versions are different with more explanatory steps and variable names)_\n",
    "<pre>\n",
    "- q_pred = self.Q.forward(state)[action]\n",
    "- q_next = self.Q.forward(next_state).max()\n",
    "- q_target = reward + self.gamma*q_next\n",
    "</pre>\n",
    "**4. Mapping**:\n",
    "- ```q_pred``` = Q predicted = Q(s,a) \n",
    "- ```q_pred``` = current state, where action is **as is**\n",
    "- ```q_next``` = Q(s', a_max) part. Here ```max()``` is used to identify best / greedy action\n",
    "- ```q_target``` = Target part = R + gamma *  Q(s',a_max) \n",
    "- <pre>q_target = (R + gamma *  q_next) </pre>\n",
    "- Loss = [R + gamma *  Q(s',a_max)] - Q(s,a)\n",
    "- <pre>loss = q_target - q_pred </pre>\n"
   ]
  },
  {
   "cell_type": "code",
   "execution_count": 57,
   "id": "8c28b7d7-c6d9-4e30-b2bc-5b228d281efe",
   "metadata": {},
   "outputs": [],
   "source": [
    "class Agent:\n",
    "    def __init__(self, input_dims, n_actions, alpha=0.0001, gamma=0.99, \n",
    "                 epsilon=1.0, eps_dec=1e-5, eps_min=0.1):\n",
    "        self.alpha = alpha\n",
    "        self.input_dims = input_dims\n",
    "        self.n_actions = n_actions\n",
    "        self.gamma = gamma\n",
    "        self.epsilon = epsilon\n",
    "        self.eps_min = eps_min\n",
    "        self.eps_dec = eps_dec\n",
    "        # Define a \"action space\" as a list\n",
    "        self.action_space = [n for n in range(self.n_actions)]\n",
    "        \n",
    "        # For the simple Q tabular learning; Q = dictionary. Defined simply as self.Q = {}\n",
    "        # Here we use the NN!\n",
    "        self.Q = LinearDQN(self.alpha, self.n_actions, self.input_dims)\n",
    "                \n",
    "    def decide_action(self, state):\n",
    "        # Take greedy action if > epsilon\n",
    "        if np.random.random() > self.epsilon:\n",
    "            state_tensor = T.tensor(state, dtype=T.float).to(self.Q.device)\n",
    "            \n",
    "            # Find the Q values for the given state (i.e. action values)\n",
    "            # Get action value vector by feed-forward propogation\n",
    "            Q_action_values = self.Q.feedforward(state_tensor)\n",
    "            \n",
    "            # Find the position of the max. Q value.\n",
    "            # Get particular max action index, use tensor derefencing using .item() to get numpy format\n",
    "            action = T.argmax(Q_action_values).item()\n",
    "        else:\n",
    "            # Explore, choose a random action\n",
    "            action = np.random.choice(self.action_space)\n",
    "            \n",
    "        return action\n",
    "    \n",
    "    # Decrease episilon linearly\n",
    "    def decrement_epsilon(self):\n",
    "        self.epsilon = self.epsilon - self.eps_dec \\\n",
    "            if self.epsilon > self.eps_min else self.eps_min\n",
    "    \n",
    "    # Bellman equation\n",
    "    def learn(self, state, action, reward, next_state):\n",
    "        \n",
    "        # 1. Initialize gradients to zero; before begining learning loop  \n",
    "        #    Reduces chance of cross-chatter or gradients mis-behaving or leaking from one iteration to another\n",
    "        self.Q.optimizer.zero_grad()\n",
    "        \n",
    "        # 2. Convert arguments which are numpy arrays to PyTorch cuda tensors\n",
    "        state_tensor = T.tensor(state, dtype=T.float).to(self.Q.device)\n",
    "        action_tensor = T.tensor(action).to(self.Q.device)\n",
    "        reward_tensor = T.tensor(reward).to(self.Q.device)\n",
    "        next_state_tensor = T.tensor(next_state, dtype=T.float).to(self.Q.device)\n",
    "        \n",
    "        # Bellman Equation and mapping to it\n",
    "        # q_pred = Q predicted = Q(s,a) \n",
    "        # q_pred = current state, where action is **as is**\n",
    "        # q_next = Q(s', a_max) part. Here max() is used to identify best / greedy action\n",
    "        # q_target = Target part = R + gamma *  Q(s',a_max) \n",
    "        # q_target = (R + gamma *  q_next)\n",
    "        # Loss = [R + gamma *  Q(s',a_max)] - Q(s,a)\n",
    "        # loss = q_target - q_pred\n",
    "        \n",
    "        # 3. Get predictions, i.e. outputs\n",
    "        # Feed forward to calculate the update Bellman equation for the Q estimate\n",
    "        # Q is the final output layer so will contain Q values for ALL actions\n",
    "        Q_predicted_for_all_actions = self.Q.feedforward(state_tensor)\n",
    "        # Get Q value for action that was selected\n",
    "        Q_predicted = Q_predicted_for_all_actions[action_tensor]\n",
    "        \n",
    "        # 4 Get max. Q value for next state\n",
    "        Q_predicted_for_next_state_for_all_actions = self.Q.feedforward(next_state_tensor)\n",
    "        Q_next_state = Q_predicted_for_next_state_for_all_actions.max()\n",
    "        \n",
    "        # 5. Target is the (R + gamma*Q(s',a) part\n",
    "        Q_target = reward_tensor + self.gamma*Q_next_state\n",
    "        \n",
    "        # 6. Compute loss = error = cost = (q_target - q_pred)\n",
    "        loss = self.Q.loss(Q_target, Q_predicted).to(self.Q.device)\n",
    "      \n",
    "        # 7. Backward propogate, note loss is already self.Q.loss, so can call .backward() directly\n",
    "        loss.backward()\n",
    "        \n",
    "        # 8. Call optimizer to optimize\n",
    "        self.Q.optimizer.step()\n",
    "        \n",
    "        # 9. Decrease epsilon\n",
    "        self.decrement_epsilon()"
   ]
  },
  {
   "cell_type": "markdown",
   "id": "cf3f670f-03ee-44dc-b4bb-67d85aa81c94",
   "metadata": {},
   "source": [
    "### Main loop"
   ]
  },
  {
   "cell_type": "code",
   "execution_count": 58,
   "id": "44e0a580-a045-46fc-b286-2af470346780",
   "metadata": {
    "tags": []
   },
   "outputs": [
    {
     "name": "stdout",
     "output_type": "stream",
     "text": [
      "0000: Reward 15.00 | Avg. reward 15.00 | Epsilon 1.000\n",
      "0100: Reward 15.00 | Avg. reward 18.87 | Epsilon 0.981\n",
      "0200: Reward 15.00 | Avg. reward 22.41 | Epsilon 0.959\n",
      "0300: Reward 29.00 | Avg. reward 22.36 | Epsilon 0.936\n",
      "0400: Reward 14.00 | Avg. reward 21.84 | Epsilon 0.914\n",
      "0500: Reward 15.00 | Avg. reward 22.30 | Epsilon 0.892\n",
      "0600: Reward 22.00 | Avg. reward 21.46 | Epsilon 0.871\n",
      "0700: Reward 30.00 | Avg. reward 24.41 | Epsilon 0.846\n",
      "0800: Reward 22.00 | Avg. reward 23.47 | Epsilon 0.823\n",
      "0900: Reward 16.00 | Avg. reward 25.78 | Epsilon 0.797\n"
     ]
    },
    {
     "data": {
      "image/png": "[encoded data removed]",
      "text/plain": [
       "<Figure size 640x480 with 2 Axes>"
      ]
     },
     "metadata": {},
     "output_type": "display_data"
    }
   ],
   "source": [
    "if __name__ == '__main__':\n",
    "    rewards_history = []\n",
    "    epsilon_history = []\n",
    "\n",
    "    env = gym.make('CartPole-v1')\n",
    "    agent = Agent(alpha=0.0001, input_dims = env.observation_space.shape, n_actions = env.action_space.n)\n",
    "\n",
    "    for n in range(N_EPISODES):\n",
    "        rewards = 0\n",
    "        done = False\n",
    "        observation = env.reset()\n",
    "        \n",
    "        while not done:\n",
    "            # Choose action according to epsilon greedy policy\n",
    "            action = agent.decide_action(observation)\n",
    "            next_observation, reward, done, info = env.step(action) \n",
    "            rewards += reward\n",
    "            agent.learn(observation, action, reward, next_observation)\n",
    "            observation = next_observation\n",
    "        # end while\n",
    "        rewards_history.append(rewards)\n",
    "        epsilon_history.append(agent.epsilon)\n",
    "        \n",
    "        if n % N_AVG_REWARDS == 0:\n",
    "            average_reward = np.mean(rewards_history[-N_AVG_REWARDS:])\n",
    "            print(f'{n:04d}: Reward {rewards:4.2f} | Avg. reward {average_reward:4.2f} | Epsilon {agent.epsilon:0.3f}')\n",
    "        \n",
    "        \n",
    "    # Plot a learning curve, with x axis starting from 1 to N_EPISODES\n",
    "    x = [i+1 for i in range(N_EPISODES)]\n",
    "    plot_learning_curve(x, rewards=rewards_history, epsilons=epsilon_history, \n",
    "                        moving_avg_n=N_AVG_REWARDS, filename='CartPole_Naive_DQN.png')\n",
    "            "
   ]
  }
 ],
 "metadata": {
  "kernelspec": {
   "display_name": "Python 3 (ipykernel)",
   "language": "python",
   "name": "python3"
  },
  "language_info": {
   "codemirror_mode": {
    "name": "ipython",
    "version": 3
   },
   "file_extension": ".py",
   "mimetype": "text/x-python",
   "name": "python",
   "nbconvert_exporter": "python",
   "pygments_lexer": "ipython3",
   "version": "3.9.1"
  }
 },
 "nbformat": 4,
 "nbformat_minor": 5
}
