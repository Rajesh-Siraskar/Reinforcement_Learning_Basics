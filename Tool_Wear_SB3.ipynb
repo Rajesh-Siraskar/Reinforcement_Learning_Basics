{
 "cells": [
  {
   "cell_type": "markdown",
   "id": "b66336bc-cd9b-4ddd-a369-4b0f4662f047",
   "metadata": {},
   "source": [
    "### Milling Tool Environment R&D and SB-3 algoithm test\n",
    "-----------------------------------------------------------------------------\n",
    "\n",
    "- V.2: 28-Apr-2023 \n",
    "    * Adhere to Open AI gym template and test with SB-3 PPO\n",
    "    * 'info' argument - change to dictionary \n",
    "\n",
    "1. Improvements to Milling Tool env.\n",
    "2. Test using Stable Baseline algorithms\n",
    "3. On finalizing - move to .py module and import in custom algorithms"
   ]
  },
  {
   "cell_type": "code",
   "execution_count": 8,
   "id": "d1337989-62a6-4f67-9883-42f22a6b554e",
   "metadata": {
    "tags": []
   },
   "outputs": [
    {
     "name": "stdin",
     "output_type": "stream",
     "text": [
      "Once deleted, variables cannot be recovered. Proceed (y/[n])?  y\n"
     ]
    }
   ],
   "source": [
    "%reset"
   ]
  },
  {
   "cell_type": "code",
   "execution_count": 21,
   "id": "703ddc3e-dad5-4eec-ae38-41d37196408e",
   "metadata": {
    "tags": []
   },
   "outputs": [],
   "source": [
    "import gym\n",
    "import pandas as pd\n",
    "import numpy as np\n",
    "from stable_baselines3.common.vec_env import DummyVecEnv\n",
    "from stable_baselines3 import A2C, PPO, DQN\n",
    "\n",
    "import milling_tool_environment\n",
    "from milling_tool_environment import MillingTool"
   ]
  },
  {
   "cell_type": "code",
   "execution_count": 12,
   "id": "b585d7e9-6025-4ea6-ad57-9e1d2129e5b1",
   "metadata": {
    "tags": []
   },
   "outputs": [
    {
     "name": "stdout",
     "output_type": "stream",
     "text": [
      "Tool wear data imported. Number of records:  121 \n",
      "\n"
     ]
    }
   ],
   "source": [
    "from stable_baselines3.common.env_checker import check_env\n",
    "WEAR_THRESHOLD = 3.0\n",
    "WEAR_MAX_ALLOWED = 1.3 # 30%\n",
    "TOOL_REPLACEMENT_IDEAL = 70\n",
    "\n",
    "df = pd.read_csv('Tool_Wear_VB.csv')\n",
    "df = df[['time', 'VB_mm', 'ACTION_CODE']]\n",
    "print('Tool wear data imported. Number of records: ', len(df.index),'\\n')\n",
    "\n",
    "env = MillingTool(df, WEAR_THRESHOLD, WEAR_MAX_ALLOWED, TOOL_REPLACEMENT_IDEAL)\n",
    "check_env(env)\n",
    "\n",
    "env.close()"
   ]
  },
  {
   "cell_type": "code",
   "execution_count": 13,
   "id": "1886e70c-19a9-4d05-9677-7dd5c794156d",
   "metadata": {
    "tags": []
   },
   "outputs": [
    {
     "name": "stdout",
     "output_type": "stream",
     "text": [
      "Tool wear data imported. Number of records:  121 \n",
      "\n",
      "       time     VB_mm  ACTION_CODE\n",
      "0  0.000000  0.000000          0.0\n",
      "1  0.008333  0.004772          0.0\n",
      "2  0.016667  0.006209          0.0\n",
      "3  0.025000  0.007337          0.0\n",
      "4  0.033333  0.008336          0.0\n"
     ]
    }
   ],
   "source": [
    "#EPISODES = 400\n",
    "WEAR_THRESHOLD = 3.0\n",
    "WEAR_MAX_ALLOWED = 1.3 # 30%\n",
    "TOOL_REPLACEMENT_IDEAL = 70\n",
    "\n",
    "df = pd.read_csv('Tool_Wear_VB.csv')\n",
    "df = df[['time', 'VB_mm', 'ACTION_CODE']]\n",
    "print('Tool wear data imported. Number of records: ', len(df.index),'\\n')\n",
    "\n",
    "df = (df-df.min())/(df.max()-df.min())\n",
    "print(df.head())"
   ]
  },
  {
   "cell_type": "code",
   "execution_count": 14,
   "id": "6900159d-ed51-48fb-868d-22e8aa452b9f",
   "metadata": {
    "tags": []
   },
   "outputs": [
    {
     "name": "stdout",
     "output_type": "stream",
     "text": [
      "Using cpu device\n",
      "Wrapping the env with a `Monitor` wrapper\n",
      "Wrapping the env in a DummyVecEnv.\n",
      "-----------------------------\n",
      "| time/              |      |\n",
      "|    fps             | 1585 |\n",
      "|    iterations      | 1    |\n",
      "|    time_elapsed    | 1    |\n",
      "|    total_timesteps | 2048 |\n",
      "-----------------------------\n"
     ]
    },
    {
     "data": {
      "text/plain": [
       "<stable_baselines3.ppo.ppo.PPO at 0x1e25fd1a550>"
      ]
     },
     "execution_count": 14,
     "metadata": {},
     "output_type": "execute_result"
    }
   ],
   "source": [
    "# The algorithms require a vectorized environment to run\n",
    "env = MillingTool(df, WEAR_THRESHOLD, WEAR_MAX_ALLOWED, TOOL_REPLACEMENT_IDEAL)\n",
    "\n",
    "model = PPO('MlpPolicy', env, verbose=1)\n",
    "\n",
    "model.learn(total_timesteps=300)"
   ]
  },
  {
   "cell_type": "code",
   "execution_count": 17,
   "id": "2ab6bb7b-c771-4934-ae2b-7492aaed081c",
   "metadata": {
    "tags": []
   },
   "outputs": [
    {
     "name": "stdout",
     "output_type": "stream",
     "text": [
      "\n",
      " Avg. Error over 100 test cases:  48.00 %\n"
     ]
    }
   ],
   "source": [
    "test_cases = np.random.randint(0, env.df_length-1, 100)\n",
    "cumm_error = 0.0\n",
    "for idx in test_cases:\n",
    "    state = env._get_observation(idx)\n",
    "    action_pred, next_state = model.predict(state)\n",
    "    action_actual = int(df['ACTION_CODE'][idx])\n",
    "    e = int(action_pred - action_actual)\n",
    "    cumm_error += abs(e)\n",
    "    #print(f'{idx:4d}: Action predicted: {action_pred} | actual: {action_actual} | error: {e}')\n",
    "    \n",
    "print(f'\\n Avg. Error over {len(test_cases)} test cases: {cumm_error*100.00/len(test_cases):6.2f} %')"
   ]
  },
  {
   "cell_type": "code",
   "execution_count": 22,
   "id": "6d4e562e-f09d-46d7-9e25-acafa37c40ab",
   "metadata": {
    "tags": []
   },
   "outputs": [
    {
     "data": {
      "text/plain": [
       "<module 'milling_tool_environment' from 'D:\\\\Rajesh\\\\ResearchLab\\\\LG_\\\\milling_tool_environment.py'>"
      ]
     },
     "execution_count": 22,
     "metadata": {},
     "output_type": "execute_result"
    }
   ],
   "source": []
  },
  {
   "cell_type": "code",
   "execution_count": null,
   "id": "1dd82c82-335d-4490-9463-6bb629b95346",
   "metadata": {},
   "outputs": [],
   "source": []
  }
 ],
 "metadata": {
  "kernelspec": {
   "display_name": "RL",
   "language": "python",
   "name": "rl"
  },
  "language_info": {
   "codemirror_mode": {
    "name": "ipython",
    "version": 3
   },
   "file_extension": ".py",
   "mimetype": "text/x-python",
   "name": "python",
   "nbconvert_exporter": "python",
   "pygments_lexer": "ipython3",
   "version": "3.9.1"
  }
 },
 "nbformat": 4,
 "nbformat_minor": 5
}
