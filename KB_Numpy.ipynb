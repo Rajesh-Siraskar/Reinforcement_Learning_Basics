{
 "cells": [
  {
   "cell_type": "markdown",
   "id": "bb9eb070-cae2-4be4-8b8b-4b98c41cd7ad",
   "metadata": {},
   "source": [
    "# Python Knowledge Base\n",
    "--------------------------------------------------------------\n",
    "1. Decorator functions\n",
    "2. NumPy primer\n",
    "3. The ```*``` idiom\n",
    "\n",
    "\n",
    "## Decorator Functions\n",
    "--------------------------------------------------------------\n",
    "1. Allows modifying the behaviour of a function or class\n",
    "2. Properties of first class functions:\n",
    " - A function is an instance of the Object type.\n",
    " - You can store the function in a variable.\n",
    " - You can pass the function as a parameter to another function.\n",
    " - You can return the function from a function.\n",
    " - You can store them in data structures such as hash tables, lists, \n",
    "\n",
    "## NumPy Primer\n",
    "--------------------------------------------------------------\n",
    "#### Concepts\n",
    "1. **n-dimensional** array **representation**: ```A [i , j, k]``` - The last element always indicates the **column**, the remaininng then are **groups of rows**. Example: (4, 2, 3) => 3 columns, then 4 \"row\" bunches, holding 2 \"row\" bunches. See representation below.\n",
    "2. **Slicing** syntax: ```[start, end, stride]``` - 'start' and 'end' can be negative. ':' indicates 'all'\n",
    "3. **Axis**: Simply another name for dimensions. For 2-D array Axis-0 = rows and Axis-1 = columns. \n",
    "#### n-dimensional array representation: \n",
    "```A [i , j, k]``` - Example: (4, 2, 3) => 3 columns, then 4 \"row\" bunches, holding 2 \"row\" bunches\n",
    "```\n",
    "[[[35, 20, 12],\n",
    "  [24,  7, 20]],\n",
    "  \n",
    " [[31, 41, 17],\n",
    "  [42, 24, 38]],\n",
    "  \n",
    " [[49,  0, 37],\n",
    "  [46, 18, 15]],\n",
    "\n",
    " [[37, 18, 25],\n",
    "  [42,  4, 10]]]\n",
    "```"
   ]
  },
  {
   "cell_type": "markdown",
   "id": "21e31d73-f09a-4f3e-9108-7bdd11634b8e",
   "metadata": {},
   "source": [
    "## Decorator Functions"
   ]
  },
  {
   "cell_type": "code",
   "execution_count": 19,
   "id": "fd8a8e48-9c4b-4b2d-a661-fc1532ec32fe",
   "metadata": {
    "tags": []
   },
   "outputs": [
    {
     "name": "stdout",
     "output_type": "stream",
     "text": [
      "Added 10 to 7 = 17\n",
      "Div 23 by 2 = 11.5\n"
     ]
    }
   ],
   "source": [
    "def Add_10(x):\n",
    "    y=x+10\n",
    "    return f\"Added 10 to {x} = {y}\"\n",
    "\n",
    "def Div_2(x):\n",
    "    y=x/2.0\n",
    "    return f\"Div {x} by 2 = {y}\"\n",
    "\n",
    "# Decorator functions: Passing the function as an argument\n",
    "def AorD(funct, n):\n",
    "    return funct(n)\n",
    "\n",
    "print(AorD(Add_10, 7))\n",
    "print(AorD(Div_2, 23))"
   ]
  },
  {
   "cell_type": "markdown",
   "id": "73427bda-da99-4d8f-9455-724538f76ad7",
   "metadata": {},
   "source": [
    "## NumPy"
   ]
  },
  {
   "cell_type": "markdown",
   "id": "497cdcc6-7821-4d19-be1b-4dc4c8cc3c25",
   "metadata": {},
   "source": [
    "### Clipping"
   ]
  },
  {
   "cell_type": "code",
   "execution_count": 17,
   "id": "02eed3ec-2468-4bfb-b7b8-d68dd9c439b5",
   "metadata": {
    "tags": []
   },
   "outputs": [],
   "source": [
    "import numpy as np"
   ]
  },
  {
   "cell_type": "code",
   "execution_count": 18,
   "id": "666deed9-2dfd-48a5-baf3-fb025ae74693",
   "metadata": {
    "tags": []
   },
   "outputs": [
    {
     "name": "stdout",
     "output_type": "stream",
     "text": [
      "[[0.72723332 0.30961377]\n",
      " [0.04219065 0.58704908]\n",
      " [0.64960359 0.81916769]]\n",
      "\n",
      "Clipped: -0.5, 0.5\n",
      "\n",
      "[[0.5        0.30961377]\n",
      " [0.04219065 0.5       ]\n",
      " [0.5        0.5       ]]\n"
     ]
    }
   ],
   "source": [
    "a = np.random.rand(3,2)\n",
    "print(a)\n",
    "print('\\nClipped: -0.5, 0.5\\n') \n",
    "ac = np.clip(a, -0.5, 0.5)\n",
    "print(ac)"
   ]
  },
  {
   "cell_type": "markdown",
   "id": "1870185a-536f-43cc-b03b-8166db116c96",
   "metadata": {
    "tags": []
   },
   "source": [
    "## Deque"
   ]
  },
  {
   "cell_type": "code",
   "execution_count": 33,
   "id": "c0be8251-385a-4ac5-9b12-4eba00df2d65",
   "metadata": {
    "tags": []
   },
   "outputs": [
    {
     "name": "stdout",
     "output_type": "stream",
     "text": [
      "deque([0, 1, 2, 3, 4, 5, 6, 7, 8, 9], maxlen=10)\n",
      "[3 1 8]\n",
      "[9 3 2]\n",
      "[1 6 8]\n",
      "[1 2 9]\n",
      "[2 6 5]\n",
      "[7 1 9]\n",
      "[4 0 9]\n",
      "[6 5 8]\n",
      "[7 1 0]\n",
      "[3 1 0]\n",
      "[9 6 8]\n",
      "[7 8 3]\n",
      "[3 6 0]\n",
      "[7 3 4]\n",
      "[9 7 6]\n",
      "[5 8 1]\n",
      "[6 8 9]\n",
      "[5 6 4]\n",
      "[2 6 0]\n",
      "[9 0 4]\n"
     ]
    }
   ],
   "source": [
    "from collections import deque\n",
    "import numpy as np\n",
    "\n",
    "D = deque(range(s), maxlen=s)\n",
    "print(D)\n",
    "\n",
    "for n in range(20):\n",
    "    C=np.random.choice(D, 3, replace=False)\n",
    "    print(C)"
   ]
  },
  {
   "cell_type": "code",
   "execution_count": 17,
   "id": "c980d50b-acc9-44b9-949b-a04e30e7d1d6",
   "metadata": {},
   "outputs": [
    {
     "name": "stdout",
     "output_type": "stream",
     "text": [
      "c=01     idx=001            size=010\n",
      "c=02     idx=002            size=010\n",
      "c=03     idx=003            size=010\n",
      "c=04     idx=004            size=010\n",
      "c=05     idx=005            size=010\n",
      "c=06     idx=006            size=010\n",
      "c=07     idx=007            size=010\n",
      "c=08     idx=008            size=010\n",
      "c=09     idx=009            size=010\n",
      "c=10     idx=000            size=010\n",
      "--------------------\n",
      "c=11     idx=001            size=010\n",
      "c=12     idx=002            size=010\n",
      "c=13     idx=003            size=010\n",
      "c=14     idx=004            size=010\n",
      "c=15     idx=005            size=010\n",
      "c=16     idx=006            size=010\n",
      "c=17     idx=007            size=010\n",
      "c=18     idx=008            size=010\n",
      "c=19     idx=009            size=010\n",
      "c=20     idx=000            size=010\n",
      "--------------------\n",
      "c=21     idx=001            size=010\n",
      "c=22     idx=002            size=010\n",
      "c=23     idx=003            size=010\n",
      "c=24     idx=004            size=010\n",
      "c=25     idx=005            size=010\n",
      "c=26     idx=006            size=010\n",
      "c=27     idx=007            size=010\n",
      "c=28     idx=008            size=010\n",
      "c=29     idx=009            size=010\n",
      "c=30     idx=000            size=010\n",
      "--------------------\n",
      "c=31     idx=001            size=010\n",
      "c=32     idx=002            size=010\n",
      "c=33     idx=003            size=010\n",
      "c=34     idx=004            size=010\n",
      "c=35     idx=005            size=010\n",
      "c=36     idx=006            size=010\n",
      "c=37     idx=007            size=010\n",
      "c=38     idx=008            size=010\n",
      "c=39     idx=009            size=010\n",
      "c=40     idx=000            size=010\n",
      "--------------------\n",
      "c=41     idx=001            size=010\n",
      "c=42     idx=002            size=010\n",
      "c=43     idx=003            size=010\n",
      "c=44     idx=004            size=010\n",
      "c=45     idx=005            size=010\n",
      "c=46     idx=006            size=010\n",
      "c=47     idx=007            size=010\n",
      "c=48     idx=008            size=010\n",
      "c=49     idx=009            size=010\n",
      "c=50     idx=000            size=010\n",
      "--------------------\n",
      "c=51     idx=001            size=010\n",
      "c=52     idx=002            size=010\n",
      "c=53     idx=003            size=010\n",
      "c=54     idx=004            size=010\n",
      "c=55     idx=005            size=010\n",
      "c=56     idx=006            size=010\n",
      "c=57     idx=007            size=010\n",
      "c=58     idx=008            size=010\n",
      "c=59     idx=009            size=010\n",
      "c=60     idx=000            size=010\n",
      "--------------------\n",
      "c=61     idx=001            size=010\n",
      "c=62     idx=002            size=010\n",
      "c=63     idx=003            size=010\n",
      "c=64     idx=004            size=010\n",
      "c=65     idx=005            size=010\n",
      "c=66     idx=006            size=010\n",
      "c=67     idx=007            size=010\n",
      "c=68     idx=008            size=010\n",
      "c=69     idx=009            size=010\n",
      "c=70     idx=000            size=010\n",
      "--------------------\n",
      "c=71     idx=001            size=010\n",
      "c=72     idx=002            size=010\n",
      "c=73     idx=003            size=010\n",
      "c=74     idx=004            size=010\n",
      "c=75     idx=005            size=010\n",
      "c=76     idx=006            size=010\n",
      "c=77     idx=007            size=010\n",
      "c=78     idx=008            size=010\n",
      "c=79     idx=009            size=010\n",
      "c=80     idx=000            size=010\n",
      "--------------------\n",
      "c=81     idx=001            size=010\n",
      "c=82     idx=002            size=010\n",
      "c=83     idx=003            size=010\n",
      "c=84     idx=004            size=010\n",
      "c=85     idx=005            size=010\n",
      "c=86     idx=006            size=010\n",
      "c=87     idx=007            size=010\n",
      "c=88     idx=008            size=010\n",
      "c=89     idx=009            size=010\n",
      "c=90     idx=000            size=010\n",
      "--------------------\n",
      "c=91     idx=001            size=010\n",
      "c=92     idx=002            size=010\n",
      "c=93     idx=003            size=010\n",
      "c=94     idx=004            size=010\n",
      "c=95     idx=005            size=010\n",
      "c=96     idx=006            size=010\n",
      "c=97     idx=007            size=010\n",
      "c=98     idx=008            size=010\n",
      "c=99     idx=009            size=010\n",
      "c=100     idx=000            size=010\n",
      "--------------------\n"
     ]
    }
   ],
   "source": [
    "s=10\n",
    "c = 1\n",
    "for n in range(100):\n",
    "    i = c%s\n",
    "    print(f'c={c:02d}     idx={i:03d}            size={s:03d}')\n",
    "    c += 1\n",
    "    if (i==0): print(60*'-')\n",
    "\n",
    "print(60*'#')\n",
    "\n",
    "D = deque(range(1, s))\n",
    "s=10\n",
    "c = 1\n",
    "for n in range(100):\n",
    "    D.append(n)\n",
    "    i = c%s\n",
    "    print(f'c={c:02d}     idx={i:03d}            size={s:03d}')\n",
    "    c += 1\n",
    "    if (i==0): print(60*'-')\n"
   ]
  },
  {
   "cell_type": "markdown",
   "id": "6a2de9d4-5ffe-4d7c-b3ef-baed49d53609",
   "metadata": {},
   "source": [
    "### The ```*``` operator  -- \"Rest\" of list idiom"
   ]
  },
  {
   "cell_type": "code",
   "execution_count": 30,
   "id": "bc2ef223-9ea6-4eda-998f-4f2f21cd3867",
   "metadata": {
    "tags": []
   },
   "outputs": [
    {
     "name": "stdout",
     "output_type": "stream",
     "text": [
      "lk: [['a', 'b', 'c', 'd', 'e', 'f', 'g'], [0, 1]]\n",
      "d1 len: 7  d2 len: 7\n",
      "data_1:  ['a', 'b', 'c', 'd', 'e', 'f', 'g']\n",
      "data_2:  [0, 1]\n",
      "['a', 'b', 'c', 'd', 'e', 'f', 'g', [0, 1]]\n",
      "[['a', 'b', 'c', 'd', 'e', 'f', 'g'], 0, 1]\n",
      "['a', 'b', 'c', 'd', 'e', 'f', 'g', 0, 1]\n",
      "a\n",
      "b\n",
      "['c', 'd', 'e', 'f', 'g', 0, 1]\n"
     ]
    }
   ],
   "source": [
    "l = ['a', 'b', 'c', 'd', 'e', 'f', 'g']\n",
    "k = [0, 1]\n",
    "lk = [l,k]\n",
    "print('lk:', lk)\n",
    "\n",
    "data_1, data_2 = [], []\n",
    "data_1, data_2 = [*lk]\n",
    "print('d1 len:', len(data_1), ' d2 len:', len(data_1))\n",
    "print('data_1: ', data_1) \n",
    "print('data_2: ', data_2)\n",
    "\n",
    "# Star idiom\n",
    "p = [*l, k]; print(p)\n",
    "p = [l, *k]; print(p)\n",
    "p = [*l, *k]; print(p)\n",
    "\n",
    "(l1, l2, *l3) = p\n",
    "print(l1) # First element\n",
    "print(l2) # 2nd  element\n",
    "print(l3) # remainder of list "
   ]
  },
  {
   "cell_type": "code",
   "execution_count": 8,
   "id": "d8196026-b794-430b-882f-246798935d0b",
   "metadata": {},
   "outputs": [],
   "source": [
    "import numpy as np\n",
    "  \n",
    "def memory_sizer(mem_size, input_shape):\n",
    "    \n",
    "    z = np.zeros((mem_size, *input_shape))\n",
    "    \n",
    "    print(f'mem-size: {mem_size}')\n",
    "    print(f'input size: {input_shape}')\n",
    "    print(f'Shape of Z: {z.shape}')\n",
    "    print(30*'-')\n",
    "    print(z)\n",
    "    print(60*'=')"
   ]
  },
  {
   "cell_type": "code",
   "execution_count": 32,
   "id": "bf88a34c-28fc-4848-bd64-2384baf3ff84",
   "metadata": {
    "tags": []
   },
   "outputs": [
    {
     "name": "stdout",
     "output_type": "stream",
     "text": [
      "mem-size: 3\n",
      "input size: (2, 4)\n",
      "Shape of Z: (3, 2, 4)\n",
      "------------------------------\n",
      "[[[0. 0. 0. 0.]\n",
      "  [0. 0. 0. 0.]]\n",
      "\n",
      " [[0. 0. 0. 0.]\n",
      "  [0. 0. 0. 0.]]\n",
      "\n",
      " [[0. 0. 0. 0.]\n",
      "  [0. 0. 0. 0.]]]\n",
      "============================================================\n",
      "None\n",
      "mem-size: 3\n",
      "input size: (2,)\n",
      "Shape of Z: (3, 2)\n",
      "------------------------------\n",
      "[[0. 0.]\n",
      " [0. 0.]\n",
      " [0. 0.]]\n",
      "============================================================\n",
      "None\n"
     ]
    }
   ],
   "source": [
    "print(memory_sizer(3, (2,4)))\n",
    "print(memory_sizer(3, (2,)))"
   ]
  },
  {
   "cell_type": "code",
   "execution_count": 15,
   "id": "acf96bca-6294-49e1-9380-7763fa155152",
   "metadata": {
    "tags": []
   },
   "outputs": [
    {
     "name": "stdout",
     "output_type": "stream",
     "text": [
      "[119  97  92  89  68 140 169 162 192 100]\n",
      "[7 2 1 4]\n",
      "[162  92  97  68]\n"
     ]
    }
   ],
   "source": [
    "A = np.random.randint(low=30, high=200, size=10)\n",
    "print(A)\n",
    "batch = np.random.choice(10, 4, replace=False)\n",
    "print(batch)\n",
    "print(A[batch])"
   ]
  },
  {
   "cell_type": "code",
   "execution_count": 18,
   "id": "e5d2265d-8c0a-4e7d-a418-d61fa7dff926",
   "metadata": {
    "tags": []
   },
   "outputs": [
    {
     "name": "stdout",
     "output_type": "stream",
     "text": [
      "(10, 20, 30)\n"
     ]
    }
   ],
   "source": [
    "def add(x, y):\n",
    "    z = x + y\n",
    "    return (x,y,z)\n",
    "\n",
    "print(add(10, 20))"
   ]
  },
  {
   "cell_type": "code",
   "execution_count": 35,
   "id": "3a3bec1a-d07a-4a7f-b468-f26902bb34d6",
   "metadata": {},
   "outputs": [
    {
     "data": {
      "text/plain": [
       "array([[[35, 20, 12],\n",
       "        [24,  7, 20]],\n",
       "\n",
       "       [[31, 41, 17],\n",
       "        [42, 24, 38]],\n",
       "\n",
       "       [[49,  0, 37],\n",
       "        [46, 18, 15]],\n",
       "\n",
       "       [[37, 18, 25],\n",
       "        [42,  4, 10]]])"
      ]
     },
     "execution_count": 35,
     "metadata": {},
     "output_type": "execute_result"
    }
   ],
   "source": [
    "A = np.random.randint(50, size=(4, 2, 3))\n",
    "A"
   ]
  },
  {
   "cell_type": "code",
   "execution_count": 33,
   "id": "6702e230-1398-44ca-a938-8ff723e37bff",
   "metadata": {
    "tags": []
   },
   "outputs": [
    {
     "name": "stdout",
     "output_type": "stream",
     "text": [
      "(4, 2, 3)\n",
      "[[[13 27 41]\n",
      "  [ 2 49 43]]\n",
      "\n",
      " [[44  2 31]\n",
      "  [14 43  5]]\n",
      "\n",
      " [[45 45 36]\n",
      "  [16 45 17]]\n",
      "\n",
      " [[10 12 41]\n",
      "  [13  9 17]]]\n",
      "------------------------------------------------------------\n",
      "(4,)\n",
      "[43  5 17 17]\n"
     ]
    }
   ],
   "source": [
    "print(A.shape); print(A); print(60*'-')\n",
    "\n",
    "B = A[:, -1, 2]; print(B.shape); print(B)"
   ]
  }
 ],
 "metadata": {
  "kernelspec": {
   "display_name": "Python 3 (ipykernel)",
   "language": "python",
   "name": "python3"
  },
  "language_info": {
   "codemirror_mode": {
    "name": "ipython",
    "version": 3
   },
   "file_extension": ".py",
   "mimetype": "text/x-python",
   "name": "python",
   "nbconvert_exporter": "python",
   "pygments_lexer": "ipython3",
   "version": "3.9.1"
  }
 },
 "nbformat": 4,
 "nbformat_minor": 5
}
